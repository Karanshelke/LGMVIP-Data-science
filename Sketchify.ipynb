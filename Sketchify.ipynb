def dodge(front,back):
    result=front*255/(255-back) 
    result[result>255]=255
    result[back==255]=255
    return result.astype('uint8')
import numpy as np
def grayscale(rgb):
    return np.dot(rgb[...,:3], [0.299, 0.587, 0.114])
img ="http://static.cricinfo.com/db/PICTURES/CMS/263600/263697.20.jpg"
import imageio
s = imageio.imread(img)
g=grayscale(s)
i = 255-g
import scipy.ndimage
b = scipy.ndimage.filters.gaussian_filter(i,sigma=10)
r= dodge(b,g)
%matplotlib inline 
import matplotlib.pyplot as plt
plt.imshow(r, cmap="gray")
<matplotlib.image.AxesImage at 0x10ddb8048>


plt.imsave('img2.png', r, cmap='gray', vmin=0, vmax=255)
